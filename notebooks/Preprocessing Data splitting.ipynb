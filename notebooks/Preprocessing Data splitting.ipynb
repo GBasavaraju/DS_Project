{
 "cells": [
  {
   "cell_type": "code",
   "execution_count": 1,
   "id": "03b53147",
   "metadata": {},
   "outputs": [],
   "source": [
    "%load_ext autoreload \n",
    "%autoreload 2"
   ]
  },
  {
   "cell_type": "code",
   "execution_count": 3,
   "id": "f8cd5ad1",
   "metadata": {},
   "outputs": [],
   "source": [
    "import numpy as np\n",
    "import pandas as pd\n",
    "import matplotlib.pyplot as plt\n",
    "from pathlib import Path\n",
    "import config\n",
    "\n",
    "from preprocessing import dataPreProcess"
   ]
  },
  {
   "cell_type": "code",
   "execution_count": 11,
   "id": "c4b12570",
   "metadata": {},
   "outputs": [],
   "source": [
    "def read_files(activity):\n",
    "    dfs = []\n",
    "    for file in config.DATA_FILES[activity]:\n",
    "        filepath = Path(config.DATA_FOLDER, activity, file);\n",
    "        with open(filepath, 'r') as file:\n",
    "            raw_data = file.readlines()\n",
    "            dfs.append((dataPreProcess(raw_data), activity))\n",
    "            \n",
    "    return dfs"
   ]
  },
  {
   "cell_type": "code",
   "execution_count": 10,
   "id": "e0d445b2",
   "metadata": {},
   "outputs": [],
   "source": [
    "def split_dataframes(df, sample_count):\n",
    "    dfs = np.array_split(df, range(sample_count, len(df), sample_count), axis = 0)\n",
    "    dfs = [_df.copy().reset_index(drop = True) for _df in dfs]\n",
    "    return dfs"
   ]
  },
  {
   "cell_type": "code",
   "execution_count": 19,
   "id": "79ca36bf",
   "metadata": {},
   "outputs": [],
   "source": [
    "def preprocess(dfs, sample_count=20):\n",
    "    preprocessed_dfs = []\n",
    "    all_labels = []\n",
    "    for df, label in dfs:\n",
    "        split_df = split_dataframes(df, sample_count)\n",
    "        preprocessed_dfs.extend(split_df)\n",
    "        all_labels.extend([label for _ in range(len(split_df))])\n",
    "        \n",
    "    return preprocessed_dfs, all_labels"
   ]
  },
  {
   "cell_type": "code",
   "execution_count": 26,
   "id": "682f623c",
   "metadata": {},
   "outputs": [],
   "source": [
    "def write_dfs(dfs, labels):\n",
    "    for index, df in enumerate(dfs):\n",
    "        folder = Path(config.DESTINATION_FOLDER, labels[index])\n",
    "        folder.mkdir(parents = True, exist_ok = True)\n",
    "        df.to_csv(Path(folder, f'{labels[index]}_{index}.csv'), index = False)"
   ]
  },
  {
   "cell_type": "code",
   "execution_count": 20,
   "id": "ae123713",
   "metadata": {},
   "outputs": [],
   "source": [
    "idle_dfs = read_files('idle')"
   ]
  },
  {
   "cell_type": "code",
   "execution_count": 21,
   "id": "8a823297",
   "metadata": {},
   "outputs": [],
   "source": [
    "jogging_dfs = read_files('jogging')"
   ]
  },
  {
   "cell_type": "code",
   "execution_count": 22,
   "id": "66c2a681",
   "metadata": {},
   "outputs": [],
   "source": [
    "after_exer_dfs = read_files('after_exercise')"
   ]
  },
  {
   "cell_type": "code",
   "execution_count": 31,
   "id": "ccf619b0",
   "metadata": {},
   "outputs": [
    {
     "name": "stdout",
     "output_type": "stream",
     "text": [
      "There are no valid SPO values, returning None\n"
     ]
    }
   ],
   "source": [
    "exercise_dfs = read_files('exercise')"
   ]
  },
  {
   "cell_type": "code",
   "execution_count": 34,
   "id": "c1dfcb51",
   "metadata": {},
   "outputs": [
    {
     "data": {
      "text/plain": [
       "[(None, 'exercise'),\n",
       " (      HeartRate  SPO_Values\n",
       "  0         115.0       100.0\n",
       "  17        117.5       100.0\n",
       "  42        120.0       100.0\n",
       "  67        122.5       100.0\n",
       "  117       125.0       100.0\n",
       "  ...         ...         ...\n",
       "  5242      115.0        92.0\n",
       "  5267      132.5        92.0\n",
       "  5292      150.0        92.0\n",
       "  5317      115.0        92.0\n",
       "  5342      136.0        92.0\n",
       "  \n",
       "  [182 rows x 2 columns],\n",
       "  'exercise'),\n",
       " (       HeartRate  SPO_Values\n",
       "  0     100.000000        89.0\n",
       "  26    136.000000        89.0\n",
       "  51    140.666667        89.0\n",
       "  101   145.333333        89.0\n",
       "  151   150.000000        89.0\n",
       "  ...          ...         ...\n",
       "  4788  136.000000        95.5\n",
       "  4813  150.000000        96.0\n",
       "  4838  125.000000        96.5\n",
       "  4888  125.000000        97.0\n",
       "  4913  125.000000        97.0\n",
       "  \n",
       "  [155 rows x 2 columns],\n",
       "  'exercise')]"
      ]
     },
     "execution_count": 34,
     "metadata": {},
     "output_type": "execute_result"
    }
   ],
   "source": [
    "exercise_dfs"
   ]
  },
  {
   "cell_type": "code",
   "execution_count": 32,
   "id": "feb53068",
   "metadata": {},
   "outputs": [],
   "source": [
    "walking_dfs = read_files('walking')"
   ]
  },
  {
   "cell_type": "code",
   "execution_count": 35,
   "id": "cd08c32a",
   "metadata": {},
   "outputs": [
    {
     "data": {
      "text/plain": [
       "([128, 151, 148], [193, 190, 184, 347], [147, 180], [182, 155], [169, 169])"
      ]
     },
     "execution_count": 35,
     "metadata": {},
     "output_type": "execute_result"
    }
   ],
   "source": [
    "[len(df) for df,_ in idle_dfs], [len(df) for df,_ in jogging_dfs], [len(df) for df,_ in after_exer_dfs], [len(df) for df,_ in exercise_dfs[1:]], [len(df) for df,_ in walking_dfs]"
   ]
  },
  {
   "cell_type": "code",
   "execution_count": 36,
   "id": "1389b921",
   "metadata": {},
   "outputs": [],
   "source": [
    "preprocessed_dfs, all_labels = preprocess(idle_dfs + jogging_dfs + after_exer_dfs + exercise_dfs[1:] + walking_dfs, 40)"
   ]
  },
  {
   "cell_type": "code",
   "execution_count": 37,
   "id": "e13886e3",
   "metadata": {},
   "outputs": [],
   "source": [
    "write_dfs(preprocessed_dfs, all_labels)"
   ]
  },
  {
   "cell_type": "code",
   "execution_count": null,
   "id": "6e915bb3",
   "metadata": {},
   "outputs": [],
   "source": []
  }
 ],
 "metadata": {
  "kernelspec": {
   "display_name": "Python 3 (ipykernel)",
   "language": "python",
   "name": "python3"
  },
  "language_info": {
   "codemirror_mode": {
    "name": "ipython",
    "version": 3
   },
   "file_extension": ".py",
   "mimetype": "text/x-python",
   "name": "python",
   "nbconvert_exporter": "python",
   "pygments_lexer": "ipython3",
   "version": "3.8.13"
  }
 },
 "nbformat": 4,
 "nbformat_minor": 5
}
