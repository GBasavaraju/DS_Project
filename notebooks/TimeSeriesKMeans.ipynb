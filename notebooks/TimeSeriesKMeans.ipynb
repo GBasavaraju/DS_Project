{
 "cells": [
  {
   "cell_type": "code",
   "execution_count": 1,
   "id": "596ce545",
   "metadata": {},
   "outputs": [],
   "source": [
    "%load_ext autoreload \n",
    "%autoreload 2"
   ]
  },
  {
   "cell_type": "code",
   "execution_count": 2,
   "id": "fc805785",
   "metadata": {},
   "outputs": [],
   "source": [
    "import random\n",
    "random.seed(42)\n",
    "import numpy as np\n",
    "np.random.seed(42)\n",
    "import pandas as pd\n",
    "import matplotlib.pyplot as plt\n",
    "import seaborn as sns\n",
    "sns.set_style(\"darkgrid\")\n",
    "from sklearn import metrics\n",
    "from sktime.clustering.k_means import TimeSeriesKMeans\n",
    "from sktime.clustering.utils.plotting._plot_partitions import plot_cluster_algorithm\n",
    "from pathlib import Path\n",
    "import config\n",
    "from sklearn.model_selection import train_test_split\n",
    "from preprocessing import dataPreProcess"
   ]
  },
  {
   "cell_type": "code",
   "execution_count": 3,
   "id": "fc4df249",
   "metadata": {},
   "outputs": [],
   "source": [
    "def read_files(activity):\n",
    "    dfs = []\n",
    "    for file in config.DATA_FILES[activity]:\n",
    "        filepath = Path(config.DATA_FOLDER, activity, file);\n",
    "        with open(filepath, 'r') as file:\n",
    "            raw_data = file.readlines()\n",
    "            dfs.append(dataPreProcess(raw_data))\n",
    "    dfs = [df.reset_index(drop = True) for df in dfs if not df is None]\n",
    "    return dfs"
   ]
  },
  {
   "cell_type": "code",
   "execution_count": 4,
   "id": "2c302fd3",
   "metadata": {},
   "outputs": [],
   "source": [
    "activities = ['idle', 'jogging', 'after_exercise', 'exercise']\n",
    "activity_labels = {'idle': 0, 'jogging': 1, 'after_exercise': 2, 'exercise': 3}"
   ]
  },
  {
   "cell_type": "code",
   "execution_count": 5,
   "id": "2ba57dca",
   "metadata": {},
   "outputs": [
    {
     "name": "stdout",
     "output_type": "stream",
     "text": [
      "There are no valid SPO values, returning None\n"
     ]
    }
   ],
   "source": [
    "dfs = {}\n",
    "for activity in activities:\n",
    "    dfs[activity] = read_files(activity)"
   ]
  },
  {
   "cell_type": "markdown",
   "id": "052aebc7",
   "metadata": {},
   "source": [
    "### Train and Test split"
   ]
  },
  {
   "cell_type": "code",
   "execution_count": 6,
   "id": "980c97d7",
   "metadata": {},
   "outputs": [],
   "source": [
    "def split_dataframes(df, sample_count):\n",
    "    dfs = np.array_split(df, range(sample_count, len(df), sample_count), axis = 0)\n",
    "    dfs = [_df.copy().reset_index(drop = True) for _df in dfs]\n",
    "    return dfs"
   ]
  },
  {
   "cell_type": "code",
   "execution_count": 7,
   "id": "4b0b6417",
   "metadata": {},
   "outputs": [],
   "source": [
    "def prepare_datasets(dfs, sample_count=20):\n",
    "\n",
    "    df_labels = {}\n",
    "    max_series = 0\n",
    "    for activity in dfs:\n",
    "        df_labels[activity] = []\n",
    "        for df in dfs[activity]:\n",
    "            split_df = split_dataframes(df, sample_count)\n",
    "            split_df = [_df for _df in split_df if len(_df) == sample_count]\n",
    "            df_labels[activity].extend([(_df, activity_labels[activity]) for _df in split_df ])\n",
    "            \n",
    "        max_series = max(max_series, len(df_labels[activity]))\n",
    "        \n",
    "    for activity in df_labels:\n",
    "        if len(df_labels[activity]) != max_series:\n",
    "            df_labels[activity].extend(random.choices(df_labels[activity],k = max_series - len(df_labels[activity])))\n",
    "    \n",
    "    combined_df_labels = []\n",
    "    for activity in df_labels:\n",
    "        combined_df_labels.extend(df_labels[activity])\n",
    "        \n",
    "    random.shuffle(combined_df_labels)\n",
    "    return list(zip(*combined_df_labels))"
   ]
  },
  {
   "cell_type": "code",
   "execution_count": 8,
   "id": "ada75576",
   "metadata": {},
   "outputs": [],
   "source": [
    "train_dfs = {}\n",
    "test_dfs = {}\n",
    "\n",
    "for activity in dfs:\n",
    "    test_size = max(1, int(0.3 * len(dfs[activity])))\n",
    "    train_dfs[activity] = dfs[activity][: len(dfs[activity]) - test_size]\n",
    "    test_dfs[activity] = dfs[activity][len(dfs[activity]) - test_size:]\n",
    "    \n",
    "X_train, y_train = prepare_datasets(train_dfs, sample_count = 40)\n",
    "X_test, y_test = prepare_datasets(test_dfs, sample_count = 40)"
   ]
  },
  {
   "cell_type": "code",
   "execution_count": 15,
   "id": "0c731aed",
   "metadata": {},
   "outputs": [
    {
     "data": {
      "text/plain": [
       "[Text(0.5, 1.0, 'Test data distribution'), Text(0.5, 0, 'Classes')]"
      ]
     },
     "execution_count": 15,
     "metadata": {},
     "output_type": "execute_result"
    },
    {
     "data": {
      "image/png": "[encoded data removed]",
      "text/plain": [
       "<Figure size 1152x576 with 2 Axes>"
      ]
     },
     "metadata": {},
     "output_type": "display_data"
    }
   ],
   "source": [
    "fig, axes = plt.subplots(ncols = 2, figsize = (16, 8))\n",
    "sns.histplot(ax = axes[0], x = y_train, stat = 'percent').set(title = 'Training data distribution', xlabel = 'Classes')\n",
    "sns.histplot(ax = axes[1], x = y_test, stat = 'percent').set(title = 'Test data distribution', xlabel = 'Classes')"
   ]
  },
  {
   "cell_type": "markdown",
   "id": "8bbaa65f",
   "metadata": {},
   "source": [
    "### Time Series K Means"
   ]
  },
  {
   "cell_type": "code",
   "execution_count": 10,
   "id": "25e052c3",
   "metadata": {},
   "outputs": [],
   "source": [
    "def get_metric_score(y_true, y_pred):\n",
    "    homogeneity_score = metrics.homogeneity_score(y_true, y_pred)\n",
    "    completeness_score = metrics.completeness_score(y_true, y_pred)\n",
    "    \n",
    "    return {'homogeneity_score': homogeneity_score, 'completeness_score': completeness_score}"
   ]
  },
  {
   "cell_type": "code",
   "execution_count": 11,
   "id": "be95e8a5",
   "metadata": {},
   "outputs": [
    {
     "data": {
      "text/plain": [
       "TimeSeriesKMeans(averaging_method='mean', init_algorithm='forgy', max_iter=100,\n",
       "                 n_clusters=4, random_state=1)"
      ]
     },
     "execution_count": 11,
     "metadata": {},
     "output_type": "execute_result"
    }
   ],
   "source": [
    "kmeans = TimeSeriesKMeans(\n",
    "    n_clusters=4,  # Number of desired centers\n",
    "    init_algorithm=\"forgy\",  # Center initialisation technique\n",
    "    max_iter=100,  # Maximum number of iterations for refinement on training set\n",
    "    metric=\"dtw\",  # Distance metric to use\n",
    "    averaging_method=\"mean\",  # Averaging technique to use\n",
    "    random_state=1,\n",
    ")\n",
    "\n",
    "kmeans.fit(list(X_train))"
   ]
  },
  {
   "cell_type": "code",
   "execution_count": 12,
   "id": "a4a2cbc1",
   "metadata": {},
   "outputs": [
    {
     "name": "stdout",
     "output_type": "stream",
     "text": [
      "Training metrics: {'homogeneity_score': 0.34589605965497033, 'completeness_score': 0.40664655804342975}\n"
     ]
    }
   ],
   "source": [
    "print('Training metrics:', get_metric_score(list(y_train), kmeans.predict(list(X_train))))"
   ]
  },
  {
   "cell_type": "code",
   "execution_count": 13,
   "id": "8f83eb58",
   "metadata": {},
   "outputs": [
    {
     "name": "stdout",
     "output_type": "stream",
     "text": [
      "Test metrics: {'homogeneity_score': 0.4085835973573986, 'completeness_score': 0.5201737073077491}\n"
     ]
    }
   ],
   "source": [
    "print('Test metrics:', get_metric_score(list(y_test), kmeans.predict(list(X_test))))"
   ]
  },
  {
   "cell_type": "code",
   "execution_count": null,
   "id": "ca6d92d9",
   "metadata": {},
   "outputs": [],
   "source": []
  }
 ],
 "metadata": {
  "kernelspec": {
   "display_name": "Python 3 (ipykernel)",
   "language": "python",
   "name": "python3"
  },
  "language_info": {
   "codemirror_mode": {
    "name": "ipython",
    "version": 3
   },
   "file_extension": ".py",
   "mimetype": "text/x-python",
   "name": "python",
   "nbconvert_exporter": "python",
   "pygments_lexer": "ipython3",
   "version": "3.8.13"
  }
 },
 "nbformat": 4,
 "nbformat_minor": 5
}
