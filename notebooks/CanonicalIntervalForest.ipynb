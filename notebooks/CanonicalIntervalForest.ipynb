{
 "cells": [
  {
   "cell_type": "code",
   "execution_count": 1,
   "id": "637821ac",
   "metadata": {},
   "outputs": [],
   "source": [
    "%load_ext autoreload \n",
    "%autoreload 2"
   ]
  },
  {
   "cell_type": "code",
   "execution_count": 35,
   "id": "252bf322",
   "metadata": {},
   "outputs": [],
   "source": [
    "import random\n",
    "random.seed(42)\n",
    "import numpy as np\n",
    "np.random.seed(42)\n",
    "import pandas as pd\n",
    "import matplotlib.pyplot as plt\n",
    "import seaborn as sns\n",
    "sns.set_style(\"darkgrid\")\n",
    "from sklearn import metrics\n",
    "from sktime.classification.interval_based import CanonicalIntervalForest\n",
    "from pathlib import Path\n",
    "import config\n",
    "from sklearn.model_selection import train_test_split\n",
    "from sklearn.model_selection import GridSearchCV, PredefinedSplit\n",
    "from preprocessing import dataPreProcess"
   ]
  },
  {
   "cell_type": "code",
   "execution_count": 3,
   "id": "1e88724e",
   "metadata": {},
   "outputs": [],
   "source": [
    "def read_files(activity):\n",
    "    dfs = []\n",
    "    for file in config.DATA_FILES[activity]:\n",
    "        filepath = Path(config.DATA_FOLDER, activity, file);\n",
    "        with open(filepath, 'r') as file:\n",
    "            raw_data = file.readlines()\n",
    "            dfs.append(dataPreProcess(raw_data))\n",
    "    dfs = [df.reset_index(drop = True) for df in dfs if not df is None]\n",
    "    return dfs"
   ]
  },
  {
   "cell_type": "code",
   "execution_count": 4,
   "id": "ca39caee",
   "metadata": {},
   "outputs": [],
   "source": [
    "activities = ['idle', 'jogging', 'after_exercise', 'exercise']\n",
    "activity_labels = {'idle': 0, 'jogging': 1, 'after_exercise': 2, 'exercise': 3}"
   ]
  },
  {
   "cell_type": "code",
   "execution_count": 5,
   "id": "0dfeeaad",
   "metadata": {},
   "outputs": [
    {
     "name": "stdout",
     "output_type": "stream",
     "text": [
      "There are no valid SPO values, returning None\n"
     ]
    }
   ],
   "source": [
    "dfs = {}\n",
    "for activity in activities:\n",
    "    dfs[activity] = read_files(activity)"
   ]
  },
  {
   "cell_type": "markdown",
   "id": "639b0b5c",
   "metadata": {},
   "source": [
    "### Train and Test Split"
   ]
  },
  {
   "cell_type": "code",
   "execution_count": 6,
   "id": "f1b60841",
   "metadata": {},
   "outputs": [],
   "source": [
    "def split_dataframes(df, sample_count):\n",
    "    dfs = np.array_split(df, range(sample_count, len(df), sample_count), axis = 0)\n",
    "    dfs = [_df.copy().reset_index(drop = True) for _df in dfs]\n",
    "    return dfs"
   ]
  },
  {
   "cell_type": "code",
   "execution_count": 7,
   "id": "19cabf7e",
   "metadata": {},
   "outputs": [],
   "source": [
    "def prepare_datasets(dfs, sample_count=20):\n",
    "\n",
    "    df_labels = {}\n",
    "    max_series = 0\n",
    "    for activity in dfs:\n",
    "        df_labels[activity] = []\n",
    "        for df in dfs[activity]:\n",
    "            split_df = split_dataframes(df, sample_count)\n",
    "            split_df = [_df for _df in split_df if len(_df) == sample_count]\n",
    "            df_labels[activity].extend([(_df, activity_labels[activity]) for _df in split_df ])\n",
    "            \n",
    "        max_series = max(max_series, len(df_labels[activity]))\n",
    "        \n",
    "    for activity in df_labels:\n",
    "        if len(df_labels[activity]) != max_series:\n",
    "            df_labels[activity].extend(random.choices(df_labels[activity],k = max_series - len(df_labels[activity])))\n",
    "    \n",
    "    combined_df_labels = []\n",
    "    for activity in df_labels:\n",
    "        combined_df_labels.extend(df_labels[activity])\n",
    "        \n",
    "    random.shuffle(combined_df_labels)\n",
    "    return list(zip(*combined_df_labels))"
   ]
  },
  {
   "cell_type": "code",
   "execution_count": 8,
   "id": "9ef9d51c",
   "metadata": {},
   "outputs": [],
   "source": [
    "train_dfs = {}\n",
    "test_dfs = {}\n",
    "\n",
    "for activity in dfs:\n",
    "    test_size = max(1, int(0.3 * len(dfs[activity])))\n",
    "    train_dfs[activity] = dfs[activity][: len(dfs[activity]) - test_size]\n",
    "    test_dfs[activity] = dfs[activity][len(dfs[activity]) - test_size:]\n",
    "    \n",
    "X_train, y_train = prepare_datasets(train_dfs, sample_count = 40)\n",
    "X_test, y_test = prepare_datasets(test_dfs, sample_count = 40)"
   ]
  },
  {
   "cell_type": "code",
   "execution_count": 10,
   "id": "5b1940a0",
   "metadata": {},
   "outputs": [
    {
     "data": {
      "text/plain": [
       "[Text(0.5, 1.0, 'Test data distribution'), Text(0.5, 0, 'Classes')]"
      ]
     },
     "execution_count": 10,
     "metadata": {},
     "output_type": "execute_result"
    },
    {
     "data": {
      "image/png": "[encoded data removed]",
      "text/plain": [
       "<Figure size 1152x576 with 2 Axes>"
      ]
     },
     "metadata": {},
     "output_type": "display_data"
    }
   ],
   "source": [
    "fig, axes = plt.subplots(ncols = 2, figsize = (16, 8))\n",
    "sns.histplot(ax = axes[0], x = y_train, stat = 'percent').set(title = 'Training data distribution', xlabel = 'Classes')\n",
    "sns.histplot(ax = axes[1], x = y_test, stat = 'percent').set(title = 'Test data distribution', xlabel = 'Classes')"
   ]
  },
  {
   "cell_type": "markdown",
   "id": "2f19377a",
   "metadata": {},
   "source": [
    "### Canonical Interval Forest Classifier"
   ]
  },
  {
   "cell_type": "code",
   "execution_count": 17,
   "id": "9601435f",
   "metadata": {},
   "outputs": [],
   "source": [
    "def get_metric_score(y_true, y_pred):\n",
    "    accuracy = metrics.accuracy_score(y_true, y_pred)\n",
    "    precision = metrics.precision_score(y_true, y_pred, average = 'micro')\n",
    "    recall = metrics.recall_score(y_true, y_pred, average = 'micro')\n",
    "    confusion_matrix = metrics.confusion_matrix(y_true, y_pred)\n",
    "    \n",
    "    return {'Accuracy': accuracy, 'Precision': precision, 'Recall': recall, 'Confusion Matrix': confusion_matrix}"
   ]
  },
  {
   "cell_type": "code",
   "execution_count": 26,
   "id": "c083ef5a",
   "metadata": {},
   "outputs": [
    {
     "data": {
      "text/plain": [
       "CanonicalIntervalForest(att_subsample_size=20, n_estimators=5, random_state=42)"
      ]
     },
     "execution_count": 26,
     "metadata": {},
     "output_type": "execute_result"
    }
   ],
   "source": [
    "cif = CanonicalIntervalForest(n_estimators=5, att_subsample_size=20, random_state=42)\n",
    "cif.fit(list(X_train), np.array(y_train))"
   ]
  },
  {
   "cell_type": "code",
   "execution_count": 28,
   "id": "911532fc",
   "metadata": {},
   "outputs": [
    {
     "name": "stdout",
     "output_type": "stream",
     "text": [
      "Training metrics: {'Accuracy': 1.0, 'Precision': 1.0, 'Recall': 1.0, 'Confusion Matrix': array([[29,  0,  0,  0],\n",
      "       [ 0, 29,  0,  0],\n",
      "       [ 0,  0, 29,  0],\n",
      "       [ 0,  0,  0, 29]], dtype=int64)}\n"
     ]
    }
   ],
   "source": [
    "print('Training metrics:', get_metric_score(list(y_train), cif.predict(list(X_train))))"
   ]
  },
  {
   "cell_type": "code",
   "execution_count": 30,
   "id": "b6ec00f3",
   "metadata": {},
   "outputs": [
    {
     "name": "stdout",
     "output_type": "stream",
     "text": [
      "Test metrics: {'Accuracy': 0.23333333333333334, 'Precision': 0.23333333333333334, 'Recall': 0.23333333333333334, 'Confusion Matrix': array([[ 8,  5,  1,  1],\n",
      "       [ 8,  6,  1,  0],\n",
      "       [15,  0,  0,  0],\n",
      "       [ 4, 11,  0,  0]], dtype=int64)}\n"
     ]
    }
   ],
   "source": [
    "print('Test metrics:', get_metric_score(list(y_test), cif.predict(list(X_test))))"
   ]
  },
  {
   "cell_type": "code",
   "execution_count": null,
   "id": "6084b231",
   "metadata": {},
   "outputs": [],
   "source": []
  },
  {
   "cell_type": "code",
   "execution_count": 36,
   "id": "2b59d010",
   "metadata": {},
   "outputs": [
    {
     "data": {
      "text/plain": [
       "GridSearchCV(cv=PredefinedSplit(test_fold=array([-1, -1, ...,  0,  0])),\n",
       "             estimator=CanonicalIntervalForest(),\n",
       "             param_grid={'att_subsample_size': [4, 8, 12, 16, 20],\n",
       "                         'n_estimators': [1, 2, 3, 5, 10],\n",
       "                         'random_state': [42]},\n",
       "             refit='accuracy',\n",
       "             scoring={'accuracy': 'accuracy',\n",
       "                      'precision': make_scorer(precision_score, average=micro),\n",
       "                      'recall': make_scorer(recall_score, average=micro)})"
      ]
     },
     "execution_count": 36,
     "metadata": {},
     "output_type": "execute_result"
    }
   ],
   "source": [
    "parameters = {'n_estimators': [1, 2, 3, 5, 10], 'att_subsample_size':[4, 8, 12, 16, 20], 'random_state': [42]}\n",
    "scoring = {'accuracy': 'accuracy', \n",
    "           'precision' : metrics.make_scorer(metrics.precision_score, average = 'micro'), \n",
    "           'recall' : metrics.make_scorer(metrics.recall_score, average = 'micro')}\n",
    "cif = CanonicalIntervalForest()\n",
    "split_index = [-1]*len(X_train) + [0]*len(X_test)\n",
    "X = list(X_train) + list(X_test)\n",
    "y = np.concatenate((np.array(y_train), np.array(y_test)), axis=0)\n",
    "pds = PredefinedSplit(test_fold = split_index)\n",
    "clf = GridSearchCV(cif, parameters, scoring=scoring, refit = 'accuracy', cv = pds)\n",
    "clf.fit(X, y)"
   ]
  },
  {
   "cell_type": "code",
   "execution_count": 37,
   "id": "0780d838",
   "metadata": {},
   "outputs": [
    {
     "data": {
      "text/plain": [
       "CanonicalIntervalForest(att_subsample_size=4, n_estimators=3, random_state=42)"
      ]
     },
     "execution_count": 37,
     "metadata": {},
     "output_type": "execute_result"
    }
   ],
   "source": [
    "clf.best_estimator_"
   ]
  },
  {
   "cell_type": "code",
   "execution_count": 38,
   "id": "7387c268",
   "metadata": {},
   "outputs": [
    {
     "data": {
      "text/plain": [
       "0.23333333333333334"
      ]
     },
     "execution_count": 38,
     "metadata": {},
     "output_type": "execute_result"
    }
   ],
   "source": [
    "clf.best_score_"
   ]
  },
  {
   "cell_type": "code",
   "execution_count": 39,
   "id": "46642b2e",
   "metadata": {},
   "outputs": [
    {
     "data": {
      "text/plain": [
       "{'att_subsample_size': 4, 'n_estimators': 3, 'random_state': 42}"
      ]
     },
     "execution_count": 39,
     "metadata": {},
     "output_type": "execute_result"
    }
   ],
   "source": [
    "clf.best_params_"
   ]
  },
  {
   "cell_type": "code",
   "execution_count": 40,
   "id": "87b5fec9",
   "metadata": {},
   "outputs": [
    {
     "data": {
      "text/plain": [
       "CanonicalIntervalForest(att_subsample_size=4, n_estimators=3, random_state=42)"
      ]
     },
     "execution_count": 40,
     "metadata": {},
     "output_type": "execute_result"
    }
   ],
   "source": [
    "best_classifier = CanonicalIntervalForest(n_estimators=3, att_subsample_size=4, random_state=42)\n",
    "best_classifier.fit(list(X_train), np.array(y_train))"
   ]
  },
  {
   "cell_type": "code",
   "execution_count": 41,
   "id": "ba538a21",
   "metadata": {},
   "outputs": [],
   "source": [
    "train_metrics = get_metric_score(list(y_train), best_classifier.predict(list(X_train)))\n",
    "test_metrics = get_metric_score(list(y_test), best_classifier.predict(list(X_test)))"
   ]
  },
  {
   "cell_type": "code",
   "execution_count": 42,
   "id": "8165e3bc",
   "metadata": {},
   "outputs": [
    {
     "name": "stdout",
     "output_type": "stream",
     "text": [
      "Training metrics: {'Accuracy': 1.0, 'Precision': 1.0, 'Recall': 1.0, 'Confusion Matrix': array([[29,  0,  0,  0],\n",
      "       [ 0, 29,  0,  0],\n",
      "       [ 0,  0, 29,  0],\n",
      "       [ 0,  0,  0, 29]], dtype=int64)}\n",
      "Testing metrics: {'Accuracy': 0.25, 'Precision': 0.25, 'Recall': 0.25, 'Confusion Matrix': array([[ 4,  5,  2,  4],\n",
      "       [ 2,  6,  4,  3],\n",
      "       [10,  0,  5,  0],\n",
      "       [ 1, 10,  4,  0]], dtype=int64)}\n"
     ]
    }
   ],
   "source": [
    "print('Training metrics:', train_metrics)\n",
    "print('Testing metrics:', test_metrics)"
   ]
  },
  {
   "cell_type": "code",
   "execution_count": 45,
   "id": "8e72a0fa",
   "metadata": {},
   "outputs": [
    {
     "data": {
      "text/plain": [
       "[Text(0.5, 1.0, 'Test Confusion Matrix')]"
      ]
     },
     "execution_count": 45,
     "metadata": {},
     "output_type": "execute_result"
    },
    {
     "data": {
      "image/png": "[encoded data removed]",
      "text/plain": [
       "<Figure size 1152x432 with 4 Axes>"
      ]
     },
     "metadata": {},
     "output_type": "display_data"
    }
   ],
   "source": [
    "fig, axes = plt.subplots(ncols = 2, figsize = (16, 6))\n",
    "sns.heatmap(ax = axes[0], data =train_metrics['Confusion Matrix']).set(title = 'Training Confusion Matrix')\n",
    "sns.heatmap(ax = axes[1], data = test_metrics['Confusion Matrix']).set(title = 'Test Confusion Matrix')"
   ]
  },
  {
   "cell_type": "code",
   "execution_count": null,
   "id": "adc3619b",
   "metadata": {},
   "outputs": [],
   "source": []
  }
 ],
 "metadata": {
  "kernelspec": {
   "display_name": "Python 3 (ipykernel)",
   "language": "python",
   "name": "python3"
  },
  "language_info": {
   "codemirror_mode": {
    "name": "ipython",
    "version": 3
   },
   "file_extension": ".py",
   "mimetype": "text/x-python",
   "name": "python",
   "nbconvert_exporter": "python",
   "pygments_lexer": "ipython3",
   "version": "3.8.13"
  }
 },
 "nbformat": 4,
 "nbformat_minor": 5
}
