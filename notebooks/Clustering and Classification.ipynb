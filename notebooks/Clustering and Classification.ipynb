{
 "cells": [
  {
   "cell_type": "code",
   "execution_count": 1,
   "id": "f0017804",
   "metadata": {},
   "outputs": [],
   "source": [
    "%load_ext autoreload \n",
    "%autoreload 2"
   ]
  },
  {
   "cell_type": "code",
   "execution_count": 2,
   "id": "4f50ce91",
   "metadata": {},
   "outputs": [],
   "source": [
    "import numpy as np\n",
    "import pandas as pd\n",
    "import matplotlib.pyplot as plt\n",
    "from pathlib import Path\n",
    "import config\n",
    "import random\n",
    "\n",
    "random.seed(42)"
   ]
  },
  {
   "cell_type": "code",
   "execution_count": 5,
   "id": "89ce568b",
   "metadata": {},
   "outputs": [],
   "source": [
    "def read_preprocessed_dfs(labels):\n",
    "    dfs = []\n",
    "    df_labels = []\n",
    "    for label in labels:\n",
    "        files = Path(config.DESTINATION_FOLDER, label).glob('*.csv')\n",
    "        for file in files:\n",
    "            df = pd.read_csv(file)\n",
    "            dfs.append(df)\n",
    "            df_labels.append(label)\n",
    "            \n",
    "    return dfs, df_labels    "
   ]
  },
  {
   "cell_type": "code",
   "execution_count": 85,
   "id": "d415d7c0",
   "metadata": {},
   "outputs": [],
   "source": [
    "def normalise_dfs(dfs, labels):\n",
    "    dfs = [_df.copy() for _df in dfs]\n",
    "#     means = [df.mean() for df in dfs]\n",
    "#     dfs = [(df - df.min()) / (df.max() - df.min()) for df in dfs]\n",
    "    max_len = max([len(df) for df in dfs])\n",
    "    dfs = [(df, label) for df, label in zip(dfs, labels) if len(df) == max_len]\n",
    "#     random.seed(43)\n",
    "    random.shuffle(dfs)\n",
    "    return zip(*dfs)"
   ]
  },
  {
   "cell_type": "code",
   "execution_count": 104,
   "id": "7c5143d5",
   "metadata": {},
   "outputs": [],
   "source": [
    "all_dfs, all_labels = read_preprocessed_dfs(['idle', 'jogging', 'exercise'])"
   ]
  },
  {
   "cell_type": "code",
   "execution_count": 105,
   "id": "36e37685",
   "metadata": {},
   "outputs": [],
   "source": [
    "normalised_dfs, normalised_labels = normalise_dfs(all_dfs, all_labels)"
   ]
  },
  {
   "cell_type": "code",
   "execution_count": 106,
   "id": "e03aa394",
   "metadata": {},
   "outputs": [
    {
     "data": {
      "text/plain": [
       "36"
      ]
     },
     "execution_count": 106,
     "metadata": {},
     "output_type": "execute_result"
    }
   ],
   "source": [
    "len(normalised_dfs)"
   ]
  },
  {
   "cell_type": "code",
   "execution_count": 107,
   "id": "35141dcf",
   "metadata": {},
   "outputs": [
    {
     "name": "stdout",
     "output_type": "stream",
     "text": [
      "['exercise' 'idle' 'jogging'] [ 7  9 20]\n"
     ]
    }
   ],
   "source": [
    "unique, counts = np.unique(np.array(normalised_labels), return_counts=True)\n",
    "print(unique, counts)"
   ]
  },
  {
   "cell_type": "code",
   "execution_count": 108,
   "id": "7037e36c",
   "metadata": {},
   "outputs": [
    {
     "data": {
      "text/plain": [
       "(('idle',\n",
       "  'idle',\n",
       "  'jogging',\n",
       "  'jogging',\n",
       "  'jogging',\n",
       "  'exercise',\n",
       "  'exercise',\n",
       "  'jogging',\n",
       "  'jogging',\n",
       "  'idle',\n",
       "  'jogging',\n",
       "  'jogging',\n",
       "  'jogging',\n",
       "  'idle',\n",
       "  'exercise',\n",
       "  'jogging',\n",
       "  'jogging',\n",
       "  'jogging',\n",
       "  'jogging',\n",
       "  'idle',\n",
       "  'exercise',\n",
       "  'jogging',\n",
       "  'jogging',\n",
       "  'jogging',\n",
       "  'jogging',\n",
       "  'exercise',\n",
       "  'idle',\n",
       "  'exercise',\n",
       "  'idle',\n",
       "  'idle',\n",
       "  'jogging',\n",
       "  'idle',\n",
       "  'jogging',\n",
       "  'jogging',\n",
       "  'exercise',\n",
       "  'jogging'),\n",
       " 36)"
      ]
     },
     "execution_count": 108,
     "metadata": {},
     "output_type": "execute_result"
    }
   ],
   "source": [
    "normalised_labels, len(normalised_dfs)"
   ]
  },
  {
   "cell_type": "code",
   "execution_count": 109,
   "id": "ecc48641",
   "metadata": {},
   "outputs": [],
   "source": [
    "from sklearn.metrics import confusion_matrix, accuracy_score"
   ]
  },
  {
   "cell_type": "code",
   "execution_count": 110,
   "id": "7672f68d",
   "metadata": {},
   "outputs": [
    {
     "data": {
      "text/plain": [
       "CanonicalIntervalForest(n_estimators=10)"
      ]
     },
     "execution_count": 110,
     "metadata": {},
     "output_type": "execute_result"
    }
   ],
   "source": [
    "from sktime.classification.interval_based import (\n",
    "    CanonicalIntervalForest,\n",
    "    DrCIF,\n",
    "    RandomIntervalSpectralEnsemble,\n",
    "    SupervisedTimeSeriesForest,\n",
    "    TimeSeriesForestClassifier,\n",
    ")\n",
    "classifier = CanonicalIntervalForest(n_estimators=10)\n",
    "classifier.fit(list(normalised_dfs[:25]), np.array(normalised_labels[:25]))"
   ]
  },
  {
   "cell_type": "code",
   "execution_count": 111,
   "id": "1f01ce25",
   "metadata": {},
   "outputs": [
    {
     "data": {
      "text/plain": [
       "0.9090909090909091"
      ]
     },
     "execution_count": 111,
     "metadata": {},
     "output_type": "execute_result"
    }
   ],
   "source": [
    "classifier.score(list(normalised_dfs[25:]), np.array(normalised_labels[25:]))"
   ]
  },
  {
   "cell_type": "code",
   "execution_count": 112,
   "id": "feed717f",
   "metadata": {},
   "outputs": [],
   "source": [
    "predictions = classifier.predict(list(normalised_dfs[25:]))"
   ]
  },
  {
   "cell_type": "code",
   "execution_count": 113,
   "id": "174b81b6",
   "metadata": {},
   "outputs": [
    {
     "data": {
      "text/plain": [
       "(array(['jogging', 'idle', 'exercise', 'idle', 'idle', 'jogging', 'idle',\n",
       "        'jogging', 'jogging', 'exercise', 'jogging'], dtype='<U8'),\n",
       " ('exercise',\n",
       "  'idle',\n",
       "  'exercise',\n",
       "  'idle',\n",
       "  'idle',\n",
       "  'jogging',\n",
       "  'idle',\n",
       "  'jogging',\n",
       "  'jogging',\n",
       "  'exercise',\n",
       "  'jogging'))"
      ]
     },
     "execution_count": 113,
     "metadata": {},
     "output_type": "execute_result"
    }
   ],
   "source": [
    "predictions, normalised_labels[25:]"
   ]
  },
  {
   "cell_type": "code",
   "execution_count": 114,
   "id": "f5c9317a",
   "metadata": {},
   "outputs": [
    {
     "data": {
      "text/plain": [
       "array([[4, 0, 0],\n",
       "       [0, 4, 0],\n",
       "       [0, 1, 2]], dtype=int64)"
      ]
     },
     "execution_count": 114,
     "metadata": {},
     "output_type": "execute_result"
    }
   ],
   "source": [
    "label_dict = {'idle': 0, 'jogging': 1, 'exercise': 2}\n",
    "confusion_matrix([label_dict[label] for label in normalised_labels[25:]], [label_dict[label] for label in predictions])"
   ]
  },
  {
   "cell_type": "code",
   "execution_count": null,
   "id": "c1094d7e",
   "metadata": {},
   "outputs": [],
   "source": []
  },
  {
   "cell_type": "code",
   "execution_count": null,
   "id": "c3fe3661",
   "metadata": {},
   "outputs": [],
   "source": []
  },
  {
   "cell_type": "code",
   "execution_count": null,
   "id": "bd2a474a",
   "metadata": {},
   "outputs": [],
   "source": []
  },
  {
   "cell_type": "code",
   "execution_count": null,
   "id": "a6e49ab1",
   "metadata": {},
   "outputs": [],
   "source": []
  }
 ],
 "metadata": {
  "kernelspec": {
   "display_name": "Python 3 (ipykernel)",
   "language": "python",
   "name": "python3"
  },
  "language_info": {
   "codemirror_mode": {
    "name": "ipython",
    "version": 3
   },
   "file_extension": ".py",
   "mimetype": "text/x-python",
   "name": "python",
   "nbconvert_exporter": "python",
   "pygments_lexer": "ipython3",
   "version": "3.8.13"
  }
 },
 "nbformat": 4,
 "nbformat_minor": 5
}
